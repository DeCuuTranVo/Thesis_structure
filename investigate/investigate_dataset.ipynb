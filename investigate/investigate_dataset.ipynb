{
 "cells": [
  {
   "cell_type": "code",
   "execution_count": 2,
   "metadata": {},
   "outputs": [],
   "source": [
    "import os\n",
    "\n",
    "# global settings\n",
    "base_path = '/mnt/data_lab513/vqtran_data'\n",
    "root_data = os.path.join(base_path, \"data\", \"raw_data\", \"ADNI_NIfTI\")\n",
    "root_bias_correction = os.path.join(base_path, \"data\", \"clean_data\", \"mri_bias_correction\")\n",
    "root_bet = os.path.join(base_path, \"data\", \"clean_data\", \"mri_brain_extraction\")\n",
    "root_reg = os.path.join(base_path, \"data\", \"clean_data\", \"mri_registration\")\n",
    "root_meta = os.path.join(base_path, \"data\", \"meta_data\")#, \"Pre-Thesis_metadata\", \"ADNI\") \n",
    "root_train = os.path.join(base_path, \"data\", \"train_data\")\n",
    "root_train_dec = os.path.join(base_path, \"data\", \"data_train_dec\", \"origin\")"
   ]
  },
  {
   "cell_type": "code",
   "execution_count": 3,
   "metadata": {},
   "outputs": [
    {
     "data": {
      "text/plain": [
       "2091"
      ]
     },
     "execution_count": 3,
     "metadata": {},
     "output_type": "execute_result"
    }
   ],
   "source": [
    "len(os.listdir(root_data))\n"
   ]
  },
  {
   "cell_type": "code",
   "execution_count": 4,
   "metadata": {},
   "outputs": [
    {
     "data": {
      "text/plain": [
       "2090"
      ]
     },
     "execution_count": 4,
     "metadata": {},
     "output_type": "execute_result"
    }
   ],
   "source": [
    "len(os.listdir(root_train_dec))\n",
    "# os.listdir(root_train_dec)[:5]"
   ]
  },
  {
   "cell_type": "code",
   "execution_count": 5,
   "metadata": {},
   "outputs": [
    {
     "data": {
      "text/plain": [
       "['ADNI_002_S_0295_MR_MP-RAGE__br_raw_20060418193713091_1_S13408_I13722.nii.gz',\n",
       " 'ADNI_002_S_0295_MR_MPRAGE_br_raw_20110602125255238_39_S110476_I238627.nii.gz',\n",
       " 'ADNI_002_S_0413_MR_MP-RAGE__br_raw_20060502142705523_1_S13893_I14437.nii.gz',\n",
       " 'ADNI_002_S_0413_MR_MPRAGE_br_raw_20110617102624650_40_S111992_I240812.nii.gz',\n",
       " 'ADNI_002_S_0559_MR_MP-RAGE__br_raw_20060524075551726_1_S14875_I15948.nii.gz']"
      ]
     },
     "execution_count": 5,
     "metadata": {},
     "output_type": "execute_result"
    }
   ],
   "source": [
    "os.listdir(root_train_dec)[:5]"
   ]
  },
  {
   "cell_type": "code",
   "execution_count": 6,
   "metadata": {},
   "outputs": [
    {
     "data": {
      "text/html": [
       "<div>\n",
       "<style scoped>\n",
       "    .dataframe tbody tr th:only-of-type {\n",
       "        vertical-align: middle;\n",
       "    }\n",
       "\n",
       "    .dataframe tbody tr th {\n",
       "        vertical-align: top;\n",
       "    }\n",
       "\n",
       "    .dataframe thead th {\n",
       "        text-align: right;\n",
       "    }\n",
       "</style>\n",
       "<table border=\"1\" class=\"dataframe\">\n",
       "  <thead>\n",
       "    <tr style=\"text-align: right;\">\n",
       "      <th></th>\n",
       "      <th>Image Data ID</th>\n",
       "      <th>Subject</th>\n",
       "      <th>Group</th>\n",
       "      <th>Sex</th>\n",
       "      <th>Age</th>\n",
       "      <th>Visit</th>\n",
       "      <th>Modality</th>\n",
       "      <th>Description</th>\n",
       "      <th>Type</th>\n",
       "      <th>Acq Date</th>\n",
       "      <th>Format</th>\n",
       "      <th>Downloaded</th>\n",
       "    </tr>\n",
       "  </thead>\n",
       "  <tbody>\n",
       "    <tr>\n",
       "      <th>0</th>\n",
       "      <td>I325119</td>\n",
       "      <td>941_S_4764</td>\n",
       "      <td>EMCI</td>\n",
       "      <td>F</td>\n",
       "      <td>83</td>\n",
       "      <td>24</td>\n",
       "      <td>MRI</td>\n",
       "      <td>MPRAGE</td>\n",
       "      <td>Original</td>\n",
       "      <td>8/20/2012</td>\n",
       "      <td>DCM</td>\n",
       "      <td>NaN</td>\n",
       "    </tr>\n",
       "    <tr>\n",
       "      <th>1</th>\n",
       "      <td>I307653</td>\n",
       "      <td>941_S_4764</td>\n",
       "      <td>EMCI</td>\n",
       "      <td>F</td>\n",
       "      <td>83</td>\n",
       "      <td>22</td>\n",
       "      <td>MRI</td>\n",
       "      <td>MPRAGE</td>\n",
       "      <td>Original</td>\n",
       "      <td>6/01/2012</td>\n",
       "      <td>DCM</td>\n",
       "      <td>11/22/2020</td>\n",
       "    </tr>\n",
       "    <tr>\n",
       "      <th>2</th>\n",
       "      <td>I294080</td>\n",
       "      <td>941_S_4420</td>\n",
       "      <td>EMCI</td>\n",
       "      <td>M</td>\n",
       "      <td>81</td>\n",
       "      <td>22</td>\n",
       "      <td>MRI</td>\n",
       "      <td>MPRAGE</td>\n",
       "      <td>Original</td>\n",
       "      <td>3/28/2012</td>\n",
       "      <td>DCM</td>\n",
       "      <td>11/22/2020</td>\n",
       "    </tr>\n",
       "    <tr>\n",
       "      <th>3</th>\n",
       "      <td>I313224</td>\n",
       "      <td>941_S_4420</td>\n",
       "      <td>EMCI</td>\n",
       "      <td>M</td>\n",
       "      <td>82</td>\n",
       "      <td>24</td>\n",
       "      <td>MRI</td>\n",
       "      <td>MPRAGE</td>\n",
       "      <td>Original</td>\n",
       "      <td>6/27/2012</td>\n",
       "      <td>DCM</td>\n",
       "      <td>NaN</td>\n",
       "    </tr>\n",
       "    <tr>\n",
       "      <th>4</th>\n",
       "      <td>I352818</td>\n",
       "      <td>941_S_4420</td>\n",
       "      <td>EMCI</td>\n",
       "      <td>M</td>\n",
       "      <td>82</td>\n",
       "      <td>25</td>\n",
       "      <td>MRI</td>\n",
       "      <td>MPRAGE</td>\n",
       "      <td>Original</td>\n",
       "      <td>12/21/2012</td>\n",
       "      <td>DCM</td>\n",
       "      <td>NaN</td>\n",
       "    </tr>\n",
       "    <tr>\n",
       "      <th>5</th>\n",
       "      <td>I296058</td>\n",
       "      <td>941_S_4377</td>\n",
       "      <td>LMCI</td>\n",
       "      <td>F</td>\n",
       "      <td>70</td>\n",
       "      <td>24</td>\n",
       "      <td>MRI</td>\n",
       "      <td>MPRAGE</td>\n",
       "      <td>Original</td>\n",
       "      <td>4/05/2012</td>\n",
       "      <td>DCM</td>\n",
       "      <td>NaN</td>\n",
       "    </tr>\n",
       "    <tr>\n",
       "      <th>6</th>\n",
       "      <td>I275228</td>\n",
       "      <td>941_S_4377</td>\n",
       "      <td>LMCI</td>\n",
       "      <td>F</td>\n",
       "      <td>69</td>\n",
       "      <td>22</td>\n",
       "      <td>MRI</td>\n",
       "      <td>MPRAGE</td>\n",
       "      <td>Original</td>\n",
       "      <td>1/04/2012</td>\n",
       "      <td>DCM</td>\n",
       "      <td>11/22/2020</td>\n",
       "    </tr>\n",
       "    <tr>\n",
       "      <th>7</th>\n",
       "      <td>I324376</td>\n",
       "      <td>941_S_4377</td>\n",
       "      <td>LMCI</td>\n",
       "      <td>F</td>\n",
       "      <td>70</td>\n",
       "      <td>25</td>\n",
       "      <td>MRI</td>\n",
       "      <td>MPRAGE</td>\n",
       "      <td>Original</td>\n",
       "      <td>8/16/2012</td>\n",
       "      <td>DCM</td>\n",
       "      <td>NaN</td>\n",
       "    </tr>\n",
       "    <tr>\n",
       "      <th>8</th>\n",
       "      <td>I269043</td>\n",
       "      <td>941_S_4376</td>\n",
       "      <td>CN</td>\n",
       "      <td>F</td>\n",
       "      <td>76</td>\n",
       "      <td>22</td>\n",
       "      <td>MRI</td>\n",
       "      <td>MPRAGE</td>\n",
       "      <td>Original</td>\n",
       "      <td>6/01/2011</td>\n",
       "      <td>DCM</td>\n",
       "      <td>3/11/2021</td>\n",
       "    </tr>\n",
       "    <tr>\n",
       "      <th>9</th>\n",
       "      <td>I276860</td>\n",
       "      <td>941_S_4376</td>\n",
       "      <td>CN</td>\n",
       "      <td>F</td>\n",
       "      <td>77</td>\n",
       "      <td>22</td>\n",
       "      <td>MRI</td>\n",
       "      <td>MPRAGE</td>\n",
       "      <td>Original</td>\n",
       "      <td>1/06/2012</td>\n",
       "      <td>DCM</td>\n",
       "      <td>2/25/2020</td>\n",
       "    </tr>\n",
       "  </tbody>\n",
       "</table>\n",
       "</div>"
      ],
      "text/plain": [
       "  Image Data ID     Subject Group Sex  Age  Visit Modality Description  \\\n",
       "0       I325119  941_S_4764  EMCI   F   83     24      MRI      MPRAGE   \n",
       "1       I307653  941_S_4764  EMCI   F   83     22      MRI      MPRAGE   \n",
       "2       I294080  941_S_4420  EMCI   M   81     22      MRI      MPRAGE   \n",
       "3       I313224  941_S_4420  EMCI   M   82     24      MRI      MPRAGE   \n",
       "4       I352818  941_S_4420  EMCI   M   82     25      MRI      MPRAGE   \n",
       "5       I296058  941_S_4377  LMCI   F   70     24      MRI      MPRAGE   \n",
       "6       I275228  941_S_4377  LMCI   F   69     22      MRI      MPRAGE   \n",
       "7       I324376  941_S_4377  LMCI   F   70     25      MRI      MPRAGE   \n",
       "8       I269043  941_S_4376    CN   F   76     22      MRI      MPRAGE   \n",
       "9       I276860  941_S_4376    CN   F   77     22      MRI      MPRAGE   \n",
       "\n",
       "       Type    Acq Date Format  Downloaded  \n",
       "0  Original   8/20/2012    DCM         NaN  \n",
       "1  Original   6/01/2012    DCM  11/22/2020  \n",
       "2  Original   3/28/2012    DCM  11/22/2020  \n",
       "3  Original   6/27/2012    DCM         NaN  \n",
       "4  Original  12/21/2012    DCM         NaN  \n",
       "5  Original   4/05/2012    DCM         NaN  \n",
       "6  Original   1/04/2012    DCM  11/22/2020  \n",
       "7  Original   8/16/2012    DCM         NaN  \n",
       "8  Original   6/01/2011    DCM   3/11/2021  \n",
       "9  Original   1/06/2012    DCM   2/25/2020  "
      ]
     },
     "execution_count": 6,
     "metadata": {},
     "output_type": "execute_result"
    }
   ],
   "source": [
    "import pandas as pd\n",
    "\n",
    "\n",
    "csv_table_dir = os.path.join(root_meta, \"Pre-Thesis_5_21_2021_ADNI.csv\")\n",
    "df = pd.read_csv(csv_table_dir)\n",
    "\n",
    "df.head(10)\n",
    "# df.tail(30)\n",
    "\n",
    "#print(df.to_string()) "
   ]
  },
  {
   "cell_type": "code",
   "execution_count": 7,
   "metadata": {},
   "outputs": [
    {
     "data": {
      "text/plain": [
       "2090"
      ]
     },
     "execution_count": 7,
     "metadata": {},
     "output_type": "execute_result"
    }
   ],
   "source": [
    "len(df)"
   ]
  },
  {
   "cell_type": "code",
   "execution_count": 8,
   "metadata": {},
   "outputs": [
    {
     "data": {
      "text/plain": [
       "Index(['Image Data ID', 'Subject', 'Group', 'Sex', 'Age', 'Visit', 'Modality',\n",
       "       'Description', 'Type', 'Acq Date', 'Format', 'Downloaded'],\n",
       "      dtype='object')"
      ]
     },
     "execution_count": 8,
     "metadata": {},
     "output_type": "execute_result"
    }
   ],
   "source": [
    "df.keys()"
   ]
  },
  {
   "cell_type": "code",
   "execution_count": 9,
   "metadata": {},
   "outputs": [
    {
     "name": "stdout",
     "output_type": "stream",
     "text": [
      "Image per subject: 2090 / 1004 = 2.0816733067729083\n"
     ]
    }
   ],
   "source": [
    "num_unique_image = len(df[\"Image Data ID\"].unique())\n",
    "num_unique_subject = len(df[\"Subject\"].unique())\n",
    "print(\"Image per subject: {} / {} = {}\".format(num_unique_image, num_unique_subject, float(num_unique_image)/float(num_unique_subject)))\n",
    "#len(df[\"Group\"].unique())"
   ]
  },
  {
   "cell_type": "code",
   "execution_count": 10,
   "metadata": {},
   "outputs": [
    {
     "name": "stdout",
     "output_type": "stream",
     "text": [
      "1004\n",
      "1004\n",
      "1004\n"
     ]
    }
   ],
   "source": [
    "#get label from id_image\n",
    "#Requirement: prevent data_leakage with id_subject\n",
    "check_leakage_set = set()\n",
    "check_leakage_list = list()\n",
    "check_leakage_num = 0\n",
    "\n",
    "for dirname, _, filenames in os.walk(root_train_dec):\n",
    "    for filename in filenames:     \n",
    "        # path = os.path.join(dirname, filename)\n",
    "        # print(path)\n",
    "        \n",
    "        id_image= filename[filename.index('_I')+1 : filename.index('.nii')]\n",
    "        # print(id_image)        \n",
    "                \n",
    "        id_subject = filename[5:15]\n",
    "        # print(id_subject)\n",
    "            \n",
    "        if(id_subject in check_leakage_set):\n",
    "            continue\n",
    "        \n",
    "        row_index = df.index[df['Image Data ID'] == id_image].tolist()\n",
    "        label = df['Group'][row_index[0]]\n",
    "        \n",
    "        # print(label)\n",
    "        check_leakage_set.add(id_subject)\n",
    "        check_leakage_list.append(id_subject)\n",
    "        check_leakage_num += 1\n",
    "        #print(\"----------------\")\n",
    "        \n",
    "        # break\n",
    "    # break\n",
    "        \n",
    "print(check_leakage_num)\n",
    "print(len(check_leakage_set))\n",
    "print(len(check_leakage_list))\n",
    "        \n",
    "        #https://stackoverflow.com/questions/17071871/how-to-select-rows-from-a-dataframe-based-on-column-values"
   ]
  },
  {
   "cell_type": "markdown",
   "metadata": {},
   "source": [
    "SEARCH LABEL BY ID_IMAGE OR ID_SUBJECT"
   ]
  },
  {
   "cell_type": "code",
   "execution_count": 40,
   "metadata": {},
   "outputs": [
    {
     "name": "stdout",
     "output_type": "stream",
     "text": [
      "FILENAME: ADNI_041_S_4271_MR_MPRAGE_br_raw_20111011124558005_3_S125033_I260502.nii.gz\n",
      "ID_IMAGE: I260502\n",
      "ID_SUBJECT: 041_S_4271\n",
      "SUBJECT_DF_INDEX  1086\n",
      "[1086]\n",
      "LABEL: EMCI\n",
      "FILENAME: ADNI_041_S_4271_MR_MPRAGE_br_raw_20111011124607848_69_S125037_I260507.nii.gz\n",
      "ID_IMAGE: I260507\n",
      "ID_SUBJECT: 041_S_4271\n",
      "SUBJECT_DF_INDEX  1084\n",
      "[1084]\n",
      "LABEL: EMCI\n",
      "FILENAME: ADNI_041_S_4271_MR_MPRAGE_br_raw_20120124134836730_105_S138269_I280272.nii.gz\n",
      "ID_IMAGE: I280272\n",
      "ID_SUBJECT: 041_S_4271\n",
      "SUBJECT_DF_INDEX  1087\n",
      "[1087]\n",
      "LABEL: EMCI\n",
      "FILENAME: ADNI_041_S_4271_MR_MPRAGE_br_raw_20120426145658630_93_S148400_I300650.nii.gz\n",
      "ID_IMAGE: I300650\n",
      "ID_SUBJECT: 041_S_4271\n",
      "SUBJECT_DF_INDEX  1085\n",
      "[1085]\n",
      "LABEL: EMCI\n",
      "FILENAME: ADNI_041_S_4271_MR_MPRAGE_br_raw_20120426145701020_116_S148403_I300653.nii.gz\n",
      "ID_IMAGE: I300653\n",
      "ID_SUBJECT: 041_S_4271\n",
      "SUBJECT_DF_INDEX  1088\n",
      "[1088]\n",
      "LABEL: EMCI\n"
     ]
    }
   ],
   "source": [
    "# SEARCH_METRICS = \"ID_SUBJECT\" # \"ID_IMAGE\"\n",
    "# ID_IMAGE = \"I218391\"\n",
    "# ID_SUBJECT = \"037_S_4001\" # \"037_S_4001\" #\n",
    "\n",
    "# SEARCH_METRICS = \"ID_IMAGE\"\n",
    "# ID_IMAGE = \"I41449\"\n",
    "# ID_SUBJECT = \"094_S_1241\"\n",
    "\n",
    "SEARCH_METRICS = \"ID_SUBJECT\" # \"ID_IMAGE\"\n",
    "ID_IMAGE = \"\"\n",
    "ID_SUBJECT = \"041_S_4271\" # \"037_S_4001\" #\n",
    "\n",
    "\n",
    "SUBJECT_DF_INDEX = 0\n",
    "\n",
    "for dirname, _, filenames in os.walk(root_train_dec):\n",
    "    for filename in filenames:\n",
    "        if (SEARCH_METRICS == \"ID_IMAGE\"):          \n",
    "            if (ID_IMAGE == filename[filename.index('_I')+1 : filename.index('.nii')]):\n",
    "                print(\"FILENAME:\",filename)\n",
    "                \n",
    "                id_image= filename[filename.index('_I')+1 : filename.index('.nii')]\n",
    "                print(\"ID_IMAGE:\",id_image)        \n",
    "                        \n",
    "                id_subject = filename[5:15]\n",
    "                print(\"ID_SUBJECT:\",id_subject)\n",
    "                \n",
    "                row_index = df.index[df['Image Data ID'] == id_image].tolist()\n",
    "                SUBJECT_DF_INDEX = row_index[0]\n",
    "                print(\"SUBJECT_DF_INDEX \", SUBJECT_DF_INDEX)\n",
    "                label = df['Group'][row_index[0]]\n",
    "                print(\"LABEL:\",label)\n",
    "                \n",
    "        elif (SEARCH_METRICS == \"ID_SUBJECT\"):  \n",
    "            if (ID_SUBJECT == filename[5:15]):\n",
    "                print(\"FILENAME:\",filename)\n",
    "                \n",
    "                id_image= filename[filename.index('_I')+1 : filename.index('.nii')]\n",
    "                print(\"ID_IMAGE:\",id_image)        \n",
    "                        \n",
    "                id_subject = filename[5:15]\n",
    "                print(\"ID_SUBJECT:\",id_subject)\n",
    "                \n",
    "                row_index = df.index[df['Image Data ID'] == id_image].tolist()\n",
    "                SUBJECT_DF_INDEX = row_index[0]\n",
    "                print(\"SUBJECT_DF_INDEX \", SUBJECT_DF_INDEX)\n",
    "                print(row_index)\n",
    "                label = df['Group'][row_index[0]]\n",
    "                print(\"LABEL:\",label)\n",
    "        else:\n",
    "            raise Exception(\"only 2 argument availabel: ID_IMAGE or ID_SUBJECT\")"
   ]
  },
  {
   "cell_type": "code",
   "execution_count": 43,
   "metadata": {},
   "outputs": [
    {
     "data": {
      "text/html": [
       "<div>\n",
       "<style scoped>\n",
       "    .dataframe tbody tr th:only-of-type {\n",
       "        vertical-align: middle;\n",
       "    }\n",
       "\n",
       "    .dataframe tbody tr th {\n",
       "        vertical-align: top;\n",
       "    }\n",
       "\n",
       "    .dataframe thead th {\n",
       "        text-align: right;\n",
       "    }\n",
       "</style>\n",
       "<table border=\"1\" class=\"dataframe\">\n",
       "  <thead>\n",
       "    <tr style=\"text-align: right;\">\n",
       "      <th></th>\n",
       "      <th>Image Data ID</th>\n",
       "      <th>Subject</th>\n",
       "      <th>Group</th>\n",
       "      <th>Sex</th>\n",
       "      <th>Age</th>\n",
       "      <th>Visit</th>\n",
       "      <th>Modality</th>\n",
       "      <th>Description</th>\n",
       "      <th>Type</th>\n",
       "      <th>Acq Date</th>\n",
       "      <th>Format</th>\n",
       "      <th>Downloaded</th>\n",
       "    </tr>\n",
       "  </thead>\n",
       "  <tbody>\n",
       "    <tr>\n",
       "      <th>1084</th>\n",
       "      <td>I260507</td>\n",
       "      <td>041_S_4271</td>\n",
       "      <td>EMCI</td>\n",
       "      <td>M</td>\n",
       "      <td>62</td>\n",
       "      <td>22</td>\n",
       "      <td>MRI</td>\n",
       "      <td>MPRAGE</td>\n",
       "      <td>Original</td>\n",
       "      <td>10/07/2011</td>\n",
       "      <td>DCM</td>\n",
       "      <td>11/22/2020</td>\n",
       "    </tr>\n",
       "    <tr>\n",
       "      <th>1085</th>\n",
       "      <td>I300650</td>\n",
       "      <td>041_S_4271</td>\n",
       "      <td>EMCI</td>\n",
       "      <td>M</td>\n",
       "      <td>62</td>\n",
       "      <td>25</td>\n",
       "      <td>MRI</td>\n",
       "      <td>MPRAGE</td>\n",
       "      <td>Original</td>\n",
       "      <td>4/25/2012</td>\n",
       "      <td>DCM</td>\n",
       "      <td>NaN</td>\n",
       "    </tr>\n",
       "    <tr>\n",
       "      <th>1086</th>\n",
       "      <td>I260502</td>\n",
       "      <td>041_S_4271</td>\n",
       "      <td>EMCI</td>\n",
       "      <td>M</td>\n",
       "      <td>62</td>\n",
       "      <td>22</td>\n",
       "      <td>MRI</td>\n",
       "      <td>MPRAGE</td>\n",
       "      <td>Original</td>\n",
       "      <td>10/07/2011</td>\n",
       "      <td>DCM</td>\n",
       "      <td>11/22/2020</td>\n",
       "    </tr>\n",
       "    <tr>\n",
       "      <th>1087</th>\n",
       "      <td>I280272</td>\n",
       "      <td>041_S_4271</td>\n",
       "      <td>EMCI</td>\n",
       "      <td>M</td>\n",
       "      <td>62</td>\n",
       "      <td>24</td>\n",
       "      <td>MRI</td>\n",
       "      <td>MPRAGE</td>\n",
       "      <td>Original</td>\n",
       "      <td>1/23/2012</td>\n",
       "      <td>DCM</td>\n",
       "      <td>NaN</td>\n",
       "    </tr>\n",
       "    <tr>\n",
       "      <th>1088</th>\n",
       "      <td>I300653</td>\n",
       "      <td>041_S_4271</td>\n",
       "      <td>EMCI</td>\n",
       "      <td>M</td>\n",
       "      <td>62</td>\n",
       "      <td>25</td>\n",
       "      <td>MRI</td>\n",
       "      <td>MPRAGE</td>\n",
       "      <td>Original</td>\n",
       "      <td>4/25/2012</td>\n",
       "      <td>DCM</td>\n",
       "      <td>NaN</td>\n",
       "    </tr>\n",
       "  </tbody>\n",
       "</table>\n",
       "</div>"
      ],
      "text/plain": [
       "     Image Data ID     Subject Group Sex  Age  Visit Modality Description  \\\n",
       "1084       I260507  041_S_4271  EMCI   M   62     22      MRI      MPRAGE   \n",
       "1085       I300650  041_S_4271  EMCI   M   62     25      MRI      MPRAGE   \n",
       "1086       I260502  041_S_4271  EMCI   M   62     22      MRI      MPRAGE   \n",
       "1087       I280272  041_S_4271  EMCI   M   62     24      MRI      MPRAGE   \n",
       "1088       I300653  041_S_4271  EMCI   M   62     25      MRI      MPRAGE   \n",
       "\n",
       "          Type    Acq Date Format  Downloaded  \n",
       "1084  Original  10/07/2011    DCM  11/22/2020  \n",
       "1085  Original   4/25/2012    DCM         NaN  \n",
       "1086  Original  10/07/2011    DCM  11/22/2020  \n",
       "1087  Original   1/23/2012    DCM         NaN  \n",
       "1088  Original   4/25/2012    DCM         NaN  "
      ]
     },
     "execution_count": 43,
     "metadata": {},
     "output_type": "execute_result"
    }
   ],
   "source": [
    "# print(SUBJECT_DF_INDEX)\n",
    "SUBJECT_DF_INDEX = [1084, 1085 ,1086, 1087, 1088]\n",
    "missing_image_row = df.loc[SUBJECT_DF_INDEX,:]\n",
    "missing_image_row\n",
    "# missing_image_row.to_frame().T"
   ]
  },
  {
   "cell_type": "markdown",
   "metadata": {},
   "source": [
    "SEARCH WHAT ID_SUBJECT ARE NOT AVAILABLE "
   ]
  },
  {
   "cell_type": "markdown",
   "metadata": {},
   "source": [
    "GET ALL SUBJECT NAME FROM OS DIR"
   ]
  },
  {
   "cell_type": "code",
   "execution_count": 13,
   "metadata": {},
   "outputs": [
    {
     "name": "stdout",
     "output_type": "stream",
     "text": [
      "['002_S_0295', '002_S_0295', '002_S_0413', '002_S_0413', '002_S_0559']\n",
      "2090\n"
     ]
    }
   ],
   "source": [
    "os_id_subject_list = []\n",
    "\n",
    "for dirname, _, filenames in os.walk(root_train_dec):\n",
    "    for filename in filenames:                 \n",
    "        # print(\"FILENAME:\",filename)\n",
    "            \n",
    "        # id_image= filename[filename.index('_I')+1 : filename.index('.nii')]\n",
    "        # print(\"ID_IMAGE:\",id_image)        \n",
    "                    \n",
    "        id_subject = filename[5:15]\n",
    "        # print(\"ID_SUBJECT:\",id_subject)\n",
    "            \n",
    "        # row_index = df.index[df['Image Data ID'] == id_image].tolist()\n",
    "        # label = df['Group'][row_index[0]]\n",
    "        # print(\"LABEL:\",label)\n",
    "        \n",
    "        os_id_subject_list.append(id_subject)\n",
    "        \n",
    "print(os_id_subject_list[:5])       \n",
    "print(len(os_id_subject_list))   "
   ]
  },
  {
   "cell_type": "markdown",
   "metadata": {},
   "source": [
    "GET ALL SUBJECT NAME FROM DATAFRAME"
   ]
  },
  {
   "cell_type": "code",
   "execution_count": 14,
   "metadata": {},
   "outputs": [
    {
     "name": "stdout",
     "output_type": "stream",
     "text": [
      "2090\n",
      "['941_S_4764', '941_S_4764', '941_S_4420', '941_S_4420', '941_S_4420']\n"
     ]
    }
   ],
   "source": [
    "df_id_subject_list = []\n",
    "df_id_subject_list = df[\"Subject\"].to_list()\n",
    "      \n",
    "print(len(df_id_subject_list))  \n",
    "print(df_id_subject_list[:5]) \n"
   ]
  },
  {
   "cell_type": "markdown",
   "metadata": {},
   "source": [
    "CHECK WHICH SUBJECT ARE AVAILABLE IN OS DIR BUT NOT DATAFRAME"
   ]
  },
  {
   "cell_type": "code",
   "execution_count": 15,
   "metadata": {},
   "outputs": [],
   "source": [
    "for item in os_id_subject_list:\n",
    "    if item not in df_id_subject_list:\n",
    "        print(item)"
   ]
  },
  {
   "cell_type": "code",
   "execution_count": 16,
   "metadata": {},
   "outputs": [
    {
     "name": "stdout",
     "output_type": "stream",
     "text": [
      "False\n",
      "True\n",
      "False\n",
      "True\n"
     ]
    }
   ],
   "source": [
    "print(\"037_V_4001\" in os_id_subject_list)\n",
    "print(\"037_S_4001\" in os_id_subject_list)\n",
    "\n",
    "print(\"037_V_4001\" in df_id_subject_list)\n",
    "print(\"037_S_4001\" in df_id_subject_list)"
   ]
  },
  {
   "cell_type": "code",
   "execution_count": 17,
   "metadata": {},
   "outputs": [
    {
     "name": "stdout",
     "output_type": "stream",
     "text": [
      "Position of '037_S_4001' in os_id_subject_list 1067\n",
      "Position of '037_S_4001' in os_id_subject_list 1068\n",
      "Position of '037_S_4001' in os_id_subject_list 1069\n"
     ]
    }
   ],
   "source": [
    "for ii in range(len(os_id_subject_list)):\n",
    "    if os_id_subject_list[ii] == \"037_V_4001\":\n",
    "        print(\"Position of '037_V_4001' in os_id_subject_list\",ii)\n",
    "        \n",
    "    if os_id_subject_list[ii] == \"037_S_4001\":\n",
    "        print(\"Position of '037_S_4001' in os_id_subject_list\",ii)"
   ]
  },
  {
   "cell_type": "code",
   "execution_count": 18,
   "metadata": {},
   "outputs": [
    {
     "name": "stdout",
     "output_type": "stream",
     "text": [
      "Position of '037_S_4001' in os_id_subject_list 1174\n",
      "Position of '037_S_4001' in os_id_subject_list 1175\n",
      "Position of '037_S_4001' in os_id_subject_list 1176\n"
     ]
    }
   ],
   "source": [
    "for ii in range(len(df_id_subject_list)):\n",
    "    if df_id_subject_list[ii] == \"037_V_4001\":\n",
    "        print(\"Position of '037_V_4001' in os_id_subject_list\",ii)\n",
    "        \n",
    "    if df_id_subject_list[ii] == \"037_S_4001\":\n",
    "        print(\"Position of '037_S_4001' in os_id_subject_list\",ii)"
   ]
  },
  {
   "cell_type": "code",
   "execution_count": 19,
   "metadata": {},
   "outputs": [],
   "source": [
    "# print(df_id_subject_list)"
   ]
  },
  {
   "cell_type": "markdown",
   "metadata": {},
   "source": [
    "CHECK WHICH SUBJECT ARE AVAILABLE IN BUT NOT OS DIR"
   ]
  },
  {
   "cell_type": "code",
   "execution_count": 20,
   "metadata": {},
   "outputs": [],
   "source": [
    "for item in df_id_subject_list:\n",
    "    if item not in os_id_subject_list:\n",
    "        print(item)"
   ]
  },
  {
   "cell_type": "markdown",
   "metadata": {},
   "source": [
    "GET ALL IMAGE ID IN GET OS DIR"
   ]
  },
  {
   "cell_type": "code",
   "execution_count": 21,
   "metadata": {},
   "outputs": [
    {
     "name": "stdout",
     "output_type": "stream",
     "text": [
      "['I13722', 'I238627', 'I14437', 'I240812', 'I15948']\n",
      "2090\n"
     ]
    }
   ],
   "source": [
    "os_id_image_list = []\n",
    "\n",
    "for dirname, _, filenames in os.walk(root_train_dec):\n",
    "    for filename in filenames:                 \n",
    "        # print(\"FILENAME:\",filename)\n",
    "            \n",
    "        id_image= filename[filename.index('_I')+1 : filename.index('.nii')]\n",
    "        # print(\"ID_IMAGE:\",id_image)        \n",
    "                    \n",
    "        # id_subject = filename[5:15]\n",
    "        # print(\"ID_SUBJECT:\",id_subject)\n",
    "            \n",
    "        # row_index = df.index[df['Image Data ID'] == id_image].tolist()\n",
    "        # label = df['Group'][row_index[0]]\n",
    "        # print(\"LABEL:\",label)\n",
    "        \n",
    "        os_id_image_list.append(id_image)\n",
    "        \n",
    "print(os_id_image_list[:5])       \n",
    "print(len(os_id_image_list))   "
   ]
  },
  {
   "cell_type": "code",
   "execution_count": 22,
   "metadata": {},
   "outputs": [
    {
     "data": {
      "text/plain": [
       "2090"
      ]
     },
     "execution_count": 22,
     "metadata": {},
     "output_type": "execute_result"
    }
   ],
   "source": [
    "import numpy as np\n",
    "len(np.unique(os_id_image_list))"
   ]
  },
  {
   "cell_type": "code",
   "execution_count": 23,
   "metadata": {},
   "outputs": [],
   "source": [
    "check_duplicate = set()\n",
    "for item in os_id_image_list:\n",
    "    if item not in check_duplicate:\n",
    "        check_duplicate.add(item)\n",
    "    else:\n",
    "        print(item)"
   ]
  },
  {
   "cell_type": "markdown",
   "metadata": {},
   "source": [
    "GET ALL IMAGE ID IN DATAFRAME"
   ]
  },
  {
   "cell_type": "code",
   "execution_count": 24,
   "metadata": {},
   "outputs": [
    {
     "name": "stdout",
     "output_type": "stream",
     "text": [
      "2090\n",
      "['I325119', 'I307653', 'I294080', 'I313224', 'I352818']\n"
     ]
    }
   ],
   "source": [
    "df_id_image_list = []\n",
    "df_id_image_list = df[\"Image Data ID\"].to_list()\n",
    "      \n",
    "print(len(df_id_image_list))  \n",
    "print(df_id_image_list[:5]) "
   ]
  },
  {
   "cell_type": "code",
   "execution_count": 25,
   "metadata": {},
   "outputs": [
    {
     "data": {
      "text/plain": [
       "2090"
      ]
     },
     "execution_count": 25,
     "metadata": {},
     "output_type": "execute_result"
    }
   ],
   "source": [
    "import numpy as np\n",
    "len(np.unique(df_id_image_list))"
   ]
  },
  {
   "cell_type": "markdown",
   "metadata": {},
   "source": [
    "CHECK WHICH IMAGE ARE AVAILABLE IN OS DIR BUT NOT DATAFRAME"
   ]
  },
  {
   "cell_type": "code",
   "execution_count": 26,
   "metadata": {},
   "outputs": [],
   "source": [
    "for item in os_id_image_list:\n",
    "    if item not in df_id_image_list:\n",
    "        print(item)"
   ]
  },
  {
   "cell_type": "markdown",
   "metadata": {},
   "source": [
    "GET FREQUENCY DICT AND COMPARE ON BOTH OS DIR AND DATA FRAME"
   ]
  },
  {
   "cell_type": "code",
   "execution_count": 33,
   "metadata": {},
   "outputs": [],
   "source": [
    "df['Image Data ID'].value_counts().to_dict()\n",
    "df_unique_subject_dict = df['Subject'].value_counts().to_dict()"
   ]
  },
  {
   "cell_type": "code",
   "execution_count": 41,
   "metadata": {},
   "outputs": [
    {
     "data": {
      "text/plain": [
       "1004"
      ]
     },
     "execution_count": 41,
     "metadata": {},
     "output_type": "execute_result"
    }
   ],
   "source": [
    "len(list(df_unique_subject_dict.keys()))\n",
    "# list(df_unique_subject_dict.items())\n",
    "# list(df_unique_subject_dict.values())"
   ]
  },
  {
   "cell_type": "code",
   "execution_count": 47,
   "metadata": {},
   "outputs": [
    {
     "name": "stdout",
     "output_type": "stream",
     "text": [
      "['002_S_0295', '002_S_0295', '002_S_0413', '002_S_0413', '002_S_0559']\n",
      "2090\n",
      "1004\n"
     ]
    }
   ],
   "source": [
    "os_id_subject_list = []\n",
    "os_id_subject_set = set()\n",
    "\n",
    "for dirname, _, filenames in os.walk(root_train_dec):\n",
    "    for filename in filenames:                 \n",
    "        # print(\"FILENAME:\",filename)\n",
    "            \n",
    "        # id_image= filename[filename.index('_I')+1 : filename.index('.nii')]\n",
    "        # print(\"ID_IMAGE:\",id_image)        \n",
    "                    \n",
    "        id_subject = filename[5:15]\n",
    "        # print(\"ID_SUBJECT:\",id_subject)\n",
    "            \n",
    "        # row_index = df.index[df['Image Data ID'] == id_image].tolist()\n",
    "        # label = df['Group'][row_index[0]]\n",
    "        # print(\"LABEL:\",label)\n",
    "        \n",
    "        os_id_subject_list.append(id_subject)\n",
    "        os_id_subject_set.add(id_subject)\n",
    "        \n",
    "print(os_id_subject_list[:5])       \n",
    "print(len(os_id_subject_list))  \n",
    "print(len(os_id_subject_set))"
   ]
  },
  {
   "cell_type": "code",
   "execution_count": 51,
   "metadata": {},
   "outputs": [],
   "source": [
    "# initializing the dict\n",
    "os_id_subject_dict = {}\n",
    "\n",
    "# iterating over the list\n",
    "for item in os_id_subject_list:\n",
    "   # checking the element in dictionary\n",
    "   if item in os_id_subject_dict:\n",
    "      # incrementing the counr\n",
    "      os_id_subject_dict[item] += 1\n",
    "   else:\n",
    "      # initializing the count\n",
    "      os_id_subject_dict[item] = 1\n",
    "\n",
    "# printing the frequency\n",
    "# print(os_id_subject_dict)\n",
    "# print(os_id_subject_dict.keys())"
   ]
  },
  {
   "cell_type": "code",
   "execution_count": 54,
   "metadata": {},
   "outputs": [
    {
     "name": "stdout",
     "output_type": "stream",
     "text": [
      "True\n"
     ]
    }
   ],
   "source": [
    "print(df_unique_subject_dict == os_id_subject_dict)"
   ]
  },
  {
   "cell_type": "code",
   "execution_count": 59,
   "metadata": {},
   "outputs": [
    {
     "name": "stdout",
     "output_type": "stream",
     "text": [
      "True\n",
      "True\n"
     ]
    }
   ],
   "source": [
    "print(len(df_id_subject_list) == len(os_id_subject_list))\n",
    "# print(df_id_subject_list == os_id_subject_list)\n",
    "\n",
    "df_id_subject_list.sort()\n",
    "os_id_subject_list.sort()\n",
    "print(df_id_subject_list == os_id_subject_list)\n",
    "\n",
    "cnt = 0\n",
    "for ii in range(len(df_id_subject_list)):\n",
    "    if (df_id_subject_list[ii] != os_id_subject_list[ii]):\n",
    "        print(df_id_subject_list[ii])\n",
    "        cnt+=1\n",
    "        "
   ]
  },
  {
   "cell_type": "code",
   "execution_count": 58,
   "metadata": {},
   "outputs": [
    {
     "name": "stdout",
     "output_type": "stream",
     "text": [
      "0\n"
     ]
    }
   ],
   "source": [
    "print(cnt)"
   ]
  },
  {
   "cell_type": "code",
   "execution_count": null,
   "metadata": {},
   "outputs": [],
   "source": []
  }
 ],
 "metadata": {
  "interpreter": {
   "hash": "915829bf31cbd38844491e5c5e0e1190671b3ab965fb54cdb3589508846b01da"
  },
  "kernelspec": {
   "display_name": "Python 3.7.10 64-bit ('summer_thesis': conda)",
   "language": "python",
   "name": "python3"
  },
  "language_info": {
   "codemirror_mode": {
    "name": "ipython",
    "version": 3
   },
   "file_extension": ".py",
   "mimetype": "text/x-python",
   "name": "python",
   "nbconvert_exporter": "python",
   "pygments_lexer": "ipython3",
   "version": "3.7.10"
  },
  "orig_nbformat": 4
 },
 "nbformat": 4,
 "nbformat_minor": 2
}
