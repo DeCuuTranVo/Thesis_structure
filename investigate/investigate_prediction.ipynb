{
 "cells": [
  {
   "cell_type": "code",
   "execution_count": 1,
   "metadata": {},
   "outputs": [
    {
     "data": {
      "text/html": [
       "<div>\n",
       "<style scoped>\n",
       "    .dataframe tbody tr th:only-of-type {\n",
       "        vertical-align: middle;\n",
       "    }\n",
       "\n",
       "    .dataframe tbody tr th {\n",
       "        vertical-align: top;\n",
       "    }\n",
       "\n",
       "    .dataframe thead th {\n",
       "        text-align: right;\n",
       "    }\n",
       "</style>\n",
       "<table border=\"1\" class=\"dataframe\">\n",
       "  <thead>\n",
       "    <tr style=\"text-align: right;\">\n",
       "      <th></th>\n",
       "      <th>Unnamed: 0</th>\n",
       "      <th>Subject ID</th>\n",
       "      <th>Image ID</th>\n",
       "      <th>Image Path</th>\n",
       "      <th>Image Target</th>\n",
       "      <th>CN</th>\n",
       "      <th>AD</th>\n",
       "      <th>label</th>\n",
       "      <th>ground_truth</th>\n",
       "    </tr>\n",
       "  </thead>\n",
       "  <tbody>\n",
       "    <tr>\n",
       "      <th>0</th>\n",
       "      <td>0</td>\n",
       "      <td>002_S_0295</td>\n",
       "      <td>I13722</td>\n",
       "      <td>/mnt/data_lab513/vqtran_data/data/data_train_d...</td>\n",
       "      <td>CN</td>\n",
       "      <td>0.476844</td>\n",
       "      <td>0.523156</td>\n",
       "      <td>AD</td>\n",
       "      <td>CN</td>\n",
       "    </tr>\n",
       "    <tr>\n",
       "      <th>1</th>\n",
       "      <td>1</td>\n",
       "      <td>002_S_0413</td>\n",
       "      <td>I14437</td>\n",
       "      <td>/mnt/data_lab513/vqtran_data/data/data_train_d...</td>\n",
       "      <td>CN</td>\n",
       "      <td>0.597386</td>\n",
       "      <td>0.402614</td>\n",
       "      <td>CN</td>\n",
       "      <td>CN</td>\n",
       "    </tr>\n",
       "    <tr>\n",
       "      <th>2</th>\n",
       "      <td>2</td>\n",
       "      <td>002_S_0559</td>\n",
       "      <td>I15948</td>\n",
       "      <td>/mnt/data_lab513/vqtran_data/data/data_train_d...</td>\n",
       "      <td>CN</td>\n",
       "      <td>0.625345</td>\n",
       "      <td>0.374655</td>\n",
       "      <td>CN</td>\n",
       "      <td>CN</td>\n",
       "    </tr>\n",
       "    <tr>\n",
       "      <th>3</th>\n",
       "      <td>3</td>\n",
       "      <td>002_S_0619</td>\n",
       "      <td>I16392</td>\n",
       "      <td>/mnt/data_lab513/vqtran_data/data/data_train_d...</td>\n",
       "      <td>AD</td>\n",
       "      <td>0.250954</td>\n",
       "      <td>0.749046</td>\n",
       "      <td>AD</td>\n",
       "      <td>AD</td>\n",
       "    </tr>\n",
       "    <tr>\n",
       "      <th>4</th>\n",
       "      <td>4</td>\n",
       "      <td>002_S_0685</td>\n",
       "      <td>I18211</td>\n",
       "      <td>/mnt/data_lab513/vqtran_data/data/data_train_d...</td>\n",
       "      <td>CN</td>\n",
       "      <td>0.548937</td>\n",
       "      <td>0.451063</td>\n",
       "      <td>CN</td>\n",
       "      <td>CN</td>\n",
       "    </tr>\n",
       "    <tr>\n",
       "      <th>5</th>\n",
       "      <td>5</td>\n",
       "      <td>005_S_0814</td>\n",
       "      <td>I23573</td>\n",
       "      <td>/mnt/data_lab513/vqtran_data/data/data_train_d...</td>\n",
       "      <td>AD</td>\n",
       "      <td>0.045513</td>\n",
       "      <td>0.954487</td>\n",
       "      <td>AD</td>\n",
       "      <td>AD</td>\n",
       "    </tr>\n",
       "    <tr>\n",
       "      <th>6</th>\n",
       "      <td>6</td>\n",
       "      <td>005_S_0929</td>\n",
       "      <td>I25645</td>\n",
       "      <td>/mnt/data_lab513/vqtran_data/data/data_train_d...</td>\n",
       "      <td>AD</td>\n",
       "      <td>0.231260</td>\n",
       "      <td>0.768740</td>\n",
       "      <td>AD</td>\n",
       "      <td>AD</td>\n",
       "    </tr>\n",
       "    <tr>\n",
       "      <th>7</th>\n",
       "      <td>7</td>\n",
       "      <td>005_S_1341</td>\n",
       "      <td>I43188</td>\n",
       "      <td>/mnt/data_lab513/vqtran_data/data/data_train_d...</td>\n",
       "      <td>AD</td>\n",
       "      <td>0.544090</td>\n",
       "      <td>0.455910</td>\n",
       "      <td>CN</td>\n",
       "      <td>AD</td>\n",
       "    </tr>\n",
       "    <tr>\n",
       "      <th>8</th>\n",
       "      <td>8</td>\n",
       "      <td>006_S_0484</td>\n",
       "      <td>I17377</td>\n",
       "      <td>/mnt/data_lab513/vqtran_data/data/data_train_d...</td>\n",
       "      <td>CN</td>\n",
       "      <td>0.639772</td>\n",
       "      <td>0.360228</td>\n",
       "      <td>CN</td>\n",
       "      <td>CN</td>\n",
       "    </tr>\n",
       "    <tr>\n",
       "      <th>9</th>\n",
       "      <td>9</td>\n",
       "      <td>006_S_0498</td>\n",
       "      <td>I17505</td>\n",
       "      <td>/mnt/data_lab513/vqtran_data/data/data_train_d...</td>\n",
       "      <td>CN</td>\n",
       "      <td>0.681960</td>\n",
       "      <td>0.318040</td>\n",
       "      <td>CN</td>\n",
       "      <td>CN</td>\n",
       "    </tr>\n",
       "  </tbody>\n",
       "</table>\n",
       "</div>"
      ],
      "text/plain": [
       "   Unnamed: 0  Subject ID Image ID  \\\n",
       "0           0  002_S_0295   I13722   \n",
       "1           1  002_S_0413   I14437   \n",
       "2           2  002_S_0559   I15948   \n",
       "3           3  002_S_0619   I16392   \n",
       "4           4  002_S_0685   I18211   \n",
       "5           5  005_S_0814   I23573   \n",
       "6           6  005_S_0929   I25645   \n",
       "7           7  005_S_1341   I43188   \n",
       "8           8  006_S_0484   I17377   \n",
       "9           9  006_S_0498   I17505   \n",
       "\n",
       "                                          Image Path Image Target        CN  \\\n",
       "0  /mnt/data_lab513/vqtran_data/data/data_train_d...           CN  0.476844   \n",
       "1  /mnt/data_lab513/vqtran_data/data/data_train_d...           CN  0.597386   \n",
       "2  /mnt/data_lab513/vqtran_data/data/data_train_d...           CN  0.625345   \n",
       "3  /mnt/data_lab513/vqtran_data/data/data_train_d...           AD  0.250954   \n",
       "4  /mnt/data_lab513/vqtran_data/data/data_train_d...           CN  0.548937   \n",
       "5  /mnt/data_lab513/vqtran_data/data/data_train_d...           AD  0.045513   \n",
       "6  /mnt/data_lab513/vqtran_data/data/data_train_d...           AD  0.231260   \n",
       "7  /mnt/data_lab513/vqtran_data/data/data_train_d...           AD  0.544090   \n",
       "8  /mnt/data_lab513/vqtran_data/data/data_train_d...           CN  0.639772   \n",
       "9  /mnt/data_lab513/vqtran_data/data/data_train_d...           CN  0.681960   \n",
       "\n",
       "         AD label ground_truth  \n",
       "0  0.523156    AD           CN  \n",
       "1  0.402614    CN           CN  \n",
       "2  0.374655    CN           CN  \n",
       "3  0.749046    AD           AD  \n",
       "4  0.451063    CN           CN  \n",
       "5  0.954487    AD           AD  \n",
       "6  0.768740    AD           AD  \n",
       "7  0.455910    CN           AD  \n",
       "8  0.360228    CN           CN  \n",
       "9  0.318040    CN           CN  "
      ]
     },
     "execution_count": 1,
     "metadata": {},
     "output_type": "execute_result"
    }
   ],
   "source": [
    "import torch\n",
    "import pandas as pd \n",
    "df = pd.read_csv(\"unique_subject_with_prediction.csv\", index=False)\n",
    "df.head(10)"
   ]
  },
  {
   "cell_type": "code",
   "execution_count": 2,
   "metadata": {},
   "outputs": [
    {
     "data": {
      "text/plain": [
       "array(['AD', 'CN'], dtype=object)"
      ]
     },
     "execution_count": 2,
     "metadata": {},
     "output_type": "execute_result"
    }
   ],
   "source": [
    "df[\"label\"].unique()"
   ]
  },
  {
   "cell_type": "code",
   "execution_count": 3,
   "metadata": {},
   "outputs": [
    {
     "data": {
      "text/plain": [
       "tensor(0.4481)"
      ]
     },
     "execution_count": 3,
     "metadata": {},
     "output_type": "execute_result"
    }
   ],
   "source": [
    "\n",
    "torch.mean(torch.Tensor(df[\"CN\"].to_list()))"
   ]
  },
  {
   "cell_type": "code",
   "execution_count": 4,
   "metadata": {},
   "outputs": [
    {
     "data": {
      "text/plain": [
       "tensor(0.5519)"
      ]
     },
     "execution_count": 4,
     "metadata": {},
     "output_type": "execute_result"
    }
   ],
   "source": [
    "torch.mean(torch.Tensor(df[\"AD\"].to_list()))"
   ]
  },
  {
   "cell_type": "code",
   "execution_count": 5,
   "metadata": {},
   "outputs": [
    {
     "data": {
      "text/plain": [
       "True     481\n",
       "False    146\n",
       "dtype: int64"
      ]
     },
     "execution_count": 5,
     "metadata": {},
     "output_type": "execute_result"
    }
   ],
   "source": [
    "accuracy_series = df[\"label\"] == df[\"ground_truth\"]\n",
    "accuracy_series.value_counts()"
   ]
  },
  {
   "cell_type": "code",
   "execution_count": 6,
   "metadata": {},
   "outputs": [
    {
     "data": {
      "text/plain": [
       "0.7671451355661882"
      ]
     },
     "execution_count": 6,
     "metadata": {},
     "output_type": "execute_result"
    }
   ],
   "source": [
    "481/(481+146)"
   ]
  },
  {
   "cell_type": "code",
   "execution_count": null,
   "metadata": {},
   "outputs": [],
   "source": []
  }
 ],
 "metadata": {
  "interpreter": {
   "hash": "915829bf31cbd38844491e5c5e0e1190671b3ab965fb54cdb3589508846b01da"
  },
  "kernelspec": {
   "display_name": "Python 3.7.10 64-bit ('summer_thesis': conda)",
   "language": "python",
   "name": "python3"
  },
  "language_info": {
   "codemirror_mode": {
    "name": "ipython",
    "version": 3
   },
   "file_extension": ".py",
   "mimetype": "text/x-python",
   "name": "python",
   "nbconvert_exporter": "python",
   "pygments_lexer": "ipython3",
   "version": "3.7.10"
  },
  "orig_nbformat": 4
 },
 "nbformat": 4,
 "nbformat_minor": 2
}
