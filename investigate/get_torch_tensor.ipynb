{
 "cells": [
  {
   "cell_type": "code",
   "execution_count": 15,
   "metadata": {},
   "outputs": [],
   "source": [
    "import os\n",
    "import json\n",
    "import nibabel as nib\n",
    "import numpy as np\n",
    "import torch\n",
    "import torchvision\n",
    "import torchio as tio\n",
    "import matplotlib.pyplot as plt\n",
    "\n",
    "# global settings\n",
    "base_path = '/mnt/data_lab513/vqtran_data'\n",
    "root_data = os.path.join(base_path, \"data\", \"raw_data\", \"ADNI_NIfTI\")\n",
    "root_bias_correction = os.path.join(base_path, \"data\", \"clean_data\", \"mri_bias_correction\")\n",
    "root_bet = os.path.join(base_path, \"data\", \"clean_data\", \"mri_brain_extraction\")\n",
    "root_reg = os.path.join(base_path, \"data\", \"clean_data\", \"mri_registration\")\n",
    "root_meta = os.path.join(base_path, \"data\", \"meta_data\")#, \"Pre-Thesis_metadata\", \"ADNI\") \n",
    "root_train = os.path.join(base_path, \"data\", \"train_data\")\n",
    "root_train_dec = os.path.join(base_path, \"data\", \"data_train_dec\", \"origin\")\n",
    "root_train_unique = os.path.join(base_path, \"data\", \"data_train_dec\", \"unique\")\n",
    "root_train_unique_tensor = os.path.join(base_path, \"data\", \"data_train_dec\", \"tensor\")"
   ]
  },
  {
   "cell_type": "markdown",
   "metadata": {},
   "source": [
    "RESIZE AND SAVE TORCH DATASETS"
   ]
  },
  {
   "cell_type": "code",
   "execution_count": 16,
   "metadata": {},
   "outputs": [],
   "source": [
    "\n",
    "# subject_dict = json.load(open('investigate/unique_dataset_dict.json', 'r'))\n",
    "subject_dict = json.load(open('unique_dataset_dict.json', 'r'))"
   ]
  },
  {
   "cell_type": "code",
   "execution_count": 17,
   "metadata": {},
   "outputs": [
    {
     "name": "stdout",
     "output_type": "stream",
     "text": [
      "torch.Size([627, 1, 110, 110, 110])\n",
      "torch.Size([627])\n"
     ]
    }
   ],
   "source": [
    "# print(subject_dict)\n",
    "X_tensor_cross_val = []\n",
    "Y_tensor_cross_val = []\n",
    "\n",
    "for key in subject_dict.keys():\n",
    "    filename = subject_dict[key][2]\n",
    "    image_absolute_path = os.path.join(root_train_unique, filename)\n",
    "    # print(filename)\n",
    "    label = subject_dict[key][1]\n",
    "    # print(label)\n",
    "    \n",
    "    np_label = -1\n",
    "    if label == \"CN\" or label == \"AD\":\n",
    "        if label == \"CN\":\n",
    "            np_label = np.array([0])\n",
    "        elif label == \"AD\":\n",
    "            np_label = np.array([1])\n",
    "        else:\n",
    "            raise ValueError(\"label must be CN or AD\")  \n",
    "    else:\n",
    "        continue\n",
    "        # raise ValueError(\"label can not be EMCI or LMCI\")\n",
    "    \n",
    "    image_sample = nib.load(image_absolute_path)\n",
    "    image_array = image_sample.get_fdata()\n",
    "    \n",
    "    image_tensor = torch.Tensor(image_array)\n",
    "    image_tensor = torch.unsqueeze(image_tensor,0)\n",
    "    \n",
    "    image_transformation_tio = tio.transforms.Compose(\n",
    "            [\n",
    "                tio.transforms.Resize((110,110,110)),\n",
    "                tio.ZNormalization(),\n",
    "                tio.RescaleIntensity(out_min_max=(0, 1)) #), in_min_max=(0., 8957.8574))\n",
    "            ]\n",
    "    )\n",
    "\n",
    "    image_tensor = image_transformation_tio(image_tensor)\n",
    "\n",
    "    # print(image_tensor.shape)\n",
    "    \n",
    "\n",
    "    \n",
    "    label_tensor = torch.Tensor(np_label)\n",
    "\n",
    "    X_tensor_cross_val.append(image_tensor)\n",
    "    Y_tensor_cross_val.append(label_tensor)\n",
    "    \n",
    "X_tensor_cross_val = torch.stack(X_tensor_cross_val)\n",
    "Y_tensor_cross_val = torch.stack(Y_tensor_cross_val)\n",
    "\n",
    "Y_tensor_cross_val = Y_tensor_cross_val.ravel()\n",
    "print(X_tensor_cross_val.shape)\n",
    "print(Y_tensor_cross_val.shape)\n"
   ]
  },
  {
   "cell_type": "code",
   "execution_count": 18,
   "metadata": {},
   "outputs": [],
   "source": [
    "torch.save(X_tensor_cross_val, os.path.join(root_train_unique_tensor, \"x_tensor_NC_AD_cv.pt\"))\n",
    "torch.save(Y_tensor_cross_val, os.path.join(root_train_unique_tensor, \"y_tensor_NC_AD_cv.pt\"))"
   ]
  },
  {
   "cell_type": "markdown",
   "metadata": {},
   "source": [
    "CALCULATE MEAN AND STD OF IMAGES"
   ]
  },
  {
   "cell_type": "code",
   "execution_count": 19,
   "metadata": {},
   "outputs": [],
   "source": [
    "tensor_mean = torch.mean(X_tensor_cross_val) #tensor(86.5368) #tensor(0.1287)\n",
    "tensor_std = torch.std(X_tensor_cross_val) #tensor(258.8274) #tensor(0.2440)\n",
    "tensor_max = torch.max(X_tensor_cross_val) #tensor(8957.8574) #tensor(1.)\n",
    "tensor_min = torch.min(X_tensor_cross_val) #tensor(0.)  #tensor(0.)\n",
    "tensor_unique, tensor_count = torch.unique(Y_tensor_cross_val, return_counts=True)\n",
    "\n",
    "# tensor_unique # tensor([0., 1.])\n",
    "# tensor_count # tensor([349, 278])"
   ]
  },
  {
   "cell_type": "code",
   "execution_count": 20,
   "metadata": {},
   "outputs": [
    {
     "name": "stdout",
     "output_type": "stream",
     "text": [
      "tensor(0.1287)\n",
      "tensor(0.2440)\n",
      "tensor(1.)\n",
      "tensor(0.)\n",
      "tensor([0., 1.])\n",
      "tensor([349, 278])\n"
     ]
    }
   ],
   "source": [
    "print(tensor_mean)\n",
    "print(tensor_std)\n",
    "print(tensor_max)\n",
    "print(tensor_min)\n",
    "print(tensor_unique)\n",
    "print(tensor_count)"
   ]
  },
  {
   "cell_type": "code",
   "execution_count": 21,
   "metadata": {},
   "outputs": [
    {
     "name": "stdout",
     "output_type": "stream",
     "text": [
      "/mnt/data_lab513/vqtran_data/data/data_train_dec/tensor\n"
     ]
    }
   ],
   "source": [
    "print(root_train_unique_tensor)"
   ]
  },
  {
   "cell_type": "code",
   "execution_count": 22,
   "metadata": {},
   "outputs": [],
   "source": [
    "import torch\n",
    "y_tensor = torch.load(os.path.join(\"/mnt/data_lab513/vqtran_data/data_torch_tensor/tensor\",\"y_tensor_NC_AD_cv.pt\"))"
   ]
  },
  {
   "cell_type": "code",
   "execution_count": 23,
   "metadata": {},
   "outputs": [
    {
     "name": "stdout",
     "output_type": "stream",
     "text": [
      "torch.Size([628])\n"
     ]
    }
   ],
   "source": [
    "print(y_tensor.shape)"
   ]
  },
  {
   "cell_type": "code",
   "execution_count": 24,
   "metadata": {},
   "outputs": [
    {
     "name": "stdout",
     "output_type": "stream",
     "text": [
      "tensor([0, 0, 0, 0, 0, 1, 0, 0, 1, 1])\n"
     ]
    }
   ],
   "source": [
    "print(y_tensor[:10])"
   ]
  },
  {
   "cell_type": "code",
   "execution_count": 25,
   "metadata": {},
   "outputs": [],
   "source": [
    "y_tensor_new = torch.load(os.path.join(root_train_unique_tensor, \"y_tensor_NC_AD_cv.pt\"))"
   ]
  },
  {
   "cell_type": "code",
   "execution_count": 27,
   "metadata": {},
   "outputs": [
    {
     "name": "stdout",
     "output_type": "stream",
     "text": [
      "tensor([0., 0., 0., 1., 0., 1., 1., 1., 0., 0.])\n"
     ]
    }
   ],
   "source": [
    "print(y_tensor_new[:10])"
   ]
  },
  {
   "cell_type": "code",
   "execution_count": null,
   "metadata": {},
   "outputs": [],
   "source": []
  },
  {
   "cell_type": "code",
   "execution_count": null,
   "metadata": {},
   "outputs": [],
   "source": []
  }
 ],
 "metadata": {
  "interpreter": {
   "hash": "915829bf31cbd38844491e5c5e0e1190671b3ab965fb54cdb3589508846b01da"
  },
  "kernelspec": {
   "display_name": "Python 3.7.10 64-bit ('summer_thesis': conda)",
   "language": "python",
   "name": "python3"
  },
  "language_info": {
   "codemirror_mode": {
    "name": "ipython",
    "version": 3
   },
   "file_extension": ".py",
   "mimetype": "text/x-python",
   "name": "python",
   "nbconvert_exporter": "python",
   "pygments_lexer": "ipython3",
   "version": "3.7.10"
  },
  "orig_nbformat": 4
 },
 "nbformat": 4,
 "nbformat_minor": 2
}
